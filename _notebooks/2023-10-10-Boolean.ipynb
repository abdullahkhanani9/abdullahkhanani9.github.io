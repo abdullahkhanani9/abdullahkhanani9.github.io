{
 "cells": [
  {
   "cell_type": "markdown",
   "metadata": {},
   "source": [
    "# Popcorn Hacks"
   ]
  },
  {
   "cell_type": "code",
   "execution_count": 4,
   "metadata": {},
   "outputs": [
    {
     "name": "stdout",
     "output_type": "stream",
     "text": [
      "Your second number is bigger\n"
     ]
    }
   ],
   "source": [
    "# Popcorn Hack 1\n",
    "user1 = int(input(\"Enter your first number: \"))\n",
    "user2 = int(input(\"Enter your second number: \"))\n",
    "\n",
    "if user1 > user2:\n",
    "    print(\"Your first number is bigger\")\n",
    "elif user1 < user2:\n",
    "    print(\"Your second number is bigger\")\n",
    "else:\n",
    "    print(\"Both numbers are equal\")"
   ]
  },
  {
   "cell_type": "code",
   "execution_count": 6,
   "metadata": {},
   "outputs": [
    {
     "name": "stdout",
     "output_type": "stream",
     "text": [
      "It is a great day to go to the pool\n"
     ]
    }
   ],
   "source": [
    "# Popcorn Hack 2\n",
    "\n",
    "weather= int(input(\"Type 1 if it is sunny, Type 2 if it is rainy\"))\n",
    "temperature = int(input(\"Type 1 if it is hot, Type 2 if it cold\"))\n",
    "\n",
    "if weather and temperature == 1:\n",
    "    print(\"It is a great day to go to the pool\")\n",
    "else:\n",
    "    print(\"It isn't a good day to go to the pool\")"
   ]
  },
  {
   "cell_type": "code",
   "execution_count": 9,
   "metadata": {},
   "outputs": [
    {
     "name": "stdout",
     "output_type": "stream",
     "text": [
      "A is true\n"
     ]
    }
   ],
   "source": [
    "# Popcorn Hack 3 \n",
    "\n",
    "A = True\n",
    "\n",
    "if not A: \n",
    "    print(\"A if false)\")\n",
    "\n",
    "if not False:\n",
    "    print(\"A is true\")\n",
    "\n"
   ]
  },
  {
   "cell_type": "code",
   "execution_count": 11,
   "metadata": {},
   "outputs": [
    {
     "name": "stdout",
     "output_type": "stream",
     "text": [
      "ronitisbatman\n",
      "vanceisntbatman\n"
     ]
    }
   ],
   "source": [
    "# Popcorn Hack 4\n",
    "\n",
    "A = True\n",
    "B = False\n",
    "\n",
    "if A ^ B:\n",
    "    print(\"ronitisbatman\")\n",
    "else:\n",
    "    print(\"ronitisntbatman\")\n",
    "\n",
    "A = False\n",
    "B = False\n",
    "\n",
    "if A ^ B:\n",
    "    print(\"vanceisbatman\")\n",
    "else:\n",
    "    print(\"vanceisntbatman\")\n"
   ]
  },
  {
   "cell_type": "code",
   "execution_count": 12,
   "metadata": {},
   "outputs": [],
   "source": [
    "# HOMEWORK HACK 1\n"
   ]
  }
 ],
 "metadata": {
  "kernelspec": {
   "display_name": "Python 3",
   "language": "python",
   "name": "python3"
  },
  "language_info": {
   "codemirror_mode": {
    "name": "ipython",
    "version": 3
   },
   "file_extension": ".py",
   "mimetype": "text/x-python",
   "name": "python",
   "nbconvert_exporter": "python",
   "pygments_lexer": "ipython3",
   "version": "3.11.5"
  },
  "orig_nbformat": 4
 },
 "nbformat": 4,
 "nbformat_minor": 2
}
