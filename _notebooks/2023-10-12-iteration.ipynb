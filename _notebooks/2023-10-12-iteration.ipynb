{
 "cells": [
  {
   "cell_type": "code",
   "execution_count": 3,
   "metadata": {},
   "outputs": [
    {
     "name": "stdout",
     "output_type": "stream",
     "text": [
      "{'ChickenNuggets, ChickenTenders'}\n"
     ]
    }
   ],
   "source": [
    "# Popcorn Hack 1\n",
    "sample_dict = {\"ChickenNuggets, ChickenTenders\",}\n",
    "print(sample_dict)"
   ]
  },
  {
   "cell_type": "code",
   "execution_count": 5,
   "metadata": {},
   "outputs": [
    {
     "name": "stdout",
     "output_type": "stream",
     "text": [
      "not divisible by 3\n",
      "The only numbers divisble by 3 that you entered are:\n",
      "[3, 3, 3, 3]\n"
     ]
    }
   ],
   "source": [
    "# Popcorn Hack 2\n",
    "nums= []\n",
    "\n",
    "x=12\n",
    "for i in range(12):\n",
    "    user = int(input(\"Enter a number\"))\n",
    "    if user % 3==0:\n",
    "        nums.append(user)\n",
    "else:\n",
    "    print(\"not divisible by 3\")\n",
    "print(\"The only numbers divisble by 3 that you entered are:\")\n",
    "print(nums)\n",
    "\n"
   ]
  },
  {
   "cell_type": "code",
   "execution_count": 14,
   "metadata": {},
   "outputs": [
    {
     "name": "stdout",
     "output_type": "stream",
     "text": [
      "10.0\n",
      "5.0\n",
      "TypeError\n",
      "2.5\n",
      "ZeroDivisionError\n",
      "TypeError\n"
     ]
    }
   ],
   "source": [
    "# Popcorn Hack 3\n",
    "\n",
    "numbers = [1, 2, \"three\", 4, 0, \"five\"]\n",
    "\n",
    "for item in numbers:\n",
    "    try:\n",
    "        result = 10 / item\n",
    "        print(result)\n",
    "    except ZeroDivisionError:\n",
    "        print(\"ZeroDivisionError\")\n",
    "    except TypeError:\n",
    "        print(\"TypeError\")"
   ]
  }
 ],
 "metadata": {
  "kernelspec": {
   "display_name": "Python 3",
   "language": "python",
   "name": "python3"
  },
  "language_info": {
   "codemirror_mode": {
    "name": "ipython",
    "version": 3
   },
   "file_extension": ".py",
   "mimetype": "text/x-python",
   "name": "python",
   "nbconvert_exporter": "python",
   "pygments_lexer": "ipython3",
   "version": "3.11.5"
  },
  "orig_nbformat": 4
 },
 "nbformat": 4,
 "nbformat_minor": 2
}
